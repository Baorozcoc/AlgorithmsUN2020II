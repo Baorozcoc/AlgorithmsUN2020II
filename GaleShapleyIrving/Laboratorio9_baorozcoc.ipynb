{
  "nbformat": 4,
  "nbformat_minor": 0,
  "metadata": {
    "colab": {
      "name": "Laboratorio9_baorozcoc.ipynb",
      "provenance": [],
      "collapsed_sections": []
    },
    "kernelspec": {
      "name": "python3",
      "display_name": "Python 3"
    }
  },
  "cells": [
    {
      "cell_type": "code",
      "metadata": {
        "id": "iofxnWrqH1o6",
        "colab": {
          "base_uri": "https://localhost:8080/"
        },
        "outputId": "c94c1725-9f67-4656-b207-816151d0d394"
      },
      "source": [
        "%pylab inline\n",
        "import pandas as pd\n",
        "import numpy as np\n",
        "from collections import Counter\n",
        "from copy import copy\n",
        "from itertools import permutations\n",
        "from math import factorial"
      ],
      "execution_count": null,
      "outputs": [
        {
          "output_type": "stream",
          "text": [
            "Populating the interactive namespace from numpy and matplotlib\n"
          ],
          "name": "stdout"
        }
      ]
    },
    {
      "cell_type": "markdown",
      "metadata": {
        "id": "Im-VqiFt9e-I"
      },
      "source": [
        "El algoritmo Gale-Shapley"
      ]
    },
    {
      "cell_type": "code",
      "metadata": {
        "id": "YLiUyARCC7hS"
      },
      "source": [
        "def wPrefersM1OverM(prefer, w, m, m1): \n",
        "      \n",
        "    for i in range(N): \n",
        "          \n",
        "        if (prefer[w][i] == m1): \n",
        "            return True\n",
        "  \n",
        "        if (prefer[w][i] == m): \n",
        "            return False\n",
        "\n",
        "def stableMarriage(prefer,N): \n",
        "      \n",
        "    wPartner = [-1 for i in range(N)] \n",
        "  \n",
        "    # An array to store availability of men.  \n",
        "    # If mFree[i] is false, then man 'i' is free, \n",
        "    # otherwise engaged. \n",
        "    mFree = [False for i in range(N)] \n",
        "  \n",
        "    freeCount = N \n",
        "    conteo=0\n",
        "    # While there are free men \n",
        "    while (freeCount > 0): \n",
        "        conteo+=1\n",
        "          \n",
        "        m = 0\n",
        "        while (m < N): \n",
        "            if (mFree[m] == False): \n",
        "              #conteo+=1\n",
        "              break\n",
        "            m += 1\n",
        "\n",
        "        i = 0\n",
        "        while i < N and mFree[m] == False: \n",
        "            w = prefer[m][i] \n",
        "            if (wPartner[w - N] == -1): \n",
        "                wPartner[w - N] = m \n",
        "                mFree[m] = True\n",
        "                freeCount -= 1\n",
        "  \n",
        "            else:  \n",
        "                m1 = wPartner[w - N] \n",
        "\n",
        "                if (wPrefersM1OverM(prefer, w, m, m1) == False): \n",
        "                    wPartner[w - N] = m \n",
        "                    mFree[m] = True\n",
        "                    mFree[m1] = False\n",
        "            i += 1\n",
        "    \n",
        "    print (\"Conteo= \", conteo)\n",
        "    print (\"Mujeres \", \" Hombres\") \n",
        "    for i in range(N): \n",
        "        print(i + N, \"\\t\",\"\\t\",\"\\t\", wPartner[i]) \n",
        "  "
      ],
      "execution_count": null,
      "outputs": []
    },
    {
      "cell_type": "markdown",
      "metadata": {
        "id": "DFvlk8dWixe6"
      },
      "source": [
        "Algoritmo para realizar conteos"
      ]
    },
    {
      "cell_type": "code",
      "metadata": {
        "id": "BPoyls8Tipl8"
      },
      "source": [
        "def stableMarriageCONTEO(prefer,N): \n",
        "      \n",
        "    wPartner = [-1 for i in range(N)] \n",
        "  \n",
        "    # An array to store availability of men.  \n",
        "    # If mFree[i] is false, then man 'i' is free, \n",
        "    # otherwise engaged. \n",
        "    mFree = [False for i in range(N)] \n",
        "  \n",
        "    freeCount = N \n",
        "    conteo=0\n",
        "    # While there are free men \n",
        "    while (freeCount > 0): \n",
        "        conteo+=1\n",
        "          \n",
        "        m = 0\n",
        "        while (m < N): \n",
        "            if (mFree[m] == False): \n",
        "              #conteo+=1\n",
        "              break\n",
        "            m += 1\n",
        "\n",
        "        i = 0\n",
        "        while i < N and mFree[m] == False: \n",
        "            w = prefer[m][i] \n",
        "            if (wPartner[w - N] == -1): \n",
        "                wPartner[w - N] = m \n",
        "                mFree[m] = True\n",
        "                freeCount -= 1\n",
        "  \n",
        "            else:  \n",
        "                m1 = wPartner[w - N] \n",
        "\n",
        "                if (wPrefersM1OverM(prefer, w, m, m1) == False): \n",
        "                    wPartner[w - N] = m \n",
        "                    mFree[m] = True\n",
        "                    mFree[m1] = False\n",
        "            i += 1\n",
        "\n",
        "    return conteo\n",
        "  "
      ],
      "execution_count": null,
      "outputs": []
    },
    {
      "cell_type": "markdown",
      "metadata": {
        "id": "sMiRBR_d_UxO"
      },
      "source": [
        "Generador de permutaciones aleatorias:"
      ]
    },
    {
      "cell_type": "code",
      "metadata": {
        "id": "dPwF1N0ABUVS"
      },
      "source": [
        "def Perm(lista1,lista2,N):\n",
        "  listas=[]\n",
        "  m=list(permutations(lista1))\n",
        "  j=list(permutations(lista2))\n",
        "  for i in range(N):\n",
        "    listas.append(m[randint(0,factorial(N))])\n",
        "  for i in range(N):\n",
        "    listas.append(j[randint(0,factorial(N))])    \n",
        "  return listas\n"
      ],
      "execution_count": null,
      "outputs": []
    },
    {
      "cell_type": "code",
      "metadata": {
        "id": "mCJa1hCZb-oL"
      },
      "source": [
        "def Mostrar(lista , N):\n",
        "  print (\"Preferencias Mujeres\")\n",
        "  for i in range (N):\n",
        "    print (\"Mujer \", i+N,\"\\t\", lista[i])\n",
        "  print (\"Preferencias Hombres\")\n",
        "  for i in range (N):\n",
        "    print (\"Hombre \", i, \"\\t\", lista[i+N])"
      ],
      "execution_count": null,
      "outputs": []
    },
    {
      "cell_type": "markdown",
      "metadata": {
        "id": "Uvx3XBQLG-lF"
      },
      "source": [
        "PUNTO UNO"
      ]
    },
    {
      "cell_type": "markdown",
      "metadata": {
        "id": "wSFv_OOmG_xe"
      },
      "source": [
        "Permutaciones para el menor numero de pasos con n=4"
      ]
    },
    {
      "cell_type": "code",
      "metadata": {
        "colab": {
          "base_uri": "https://localhost:8080/"
        },
        "id": "pImXCodoBB1t",
        "outputId": "bf6e92be-7867-4fb4-8562-89dc62f01f44"
      },
      "source": [
        "hombres=[0,1,2,3]\n",
        "mujeres=[4,5,6,7]\n",
        "N=4\n",
        "suma=0\n",
        "for i in range(100):\n",
        "  prefer=(Perm(hombres,mujeres,N))\n",
        "  var=stableMarriageCONTEO(prefer,N)\n",
        "  if var==4:\n",
        "    Mostrar(prefer,N)\n",
        "    stableMarriage(prefer,N)\n",
        "    break\n"
      ],
      "execution_count": null,
      "outputs": [
        {
          "output_type": "stream",
          "text": [
            "Preferencias Mujeres\n",
            "Mujer  4 \t (1, 3, 2, 0)\n",
            "Mujer  5 \t (2, 0, 3, 1)\n",
            "Mujer  6 \t (0, 3, 1, 2)\n",
            "Mujer  7 \t (1, 3, 0, 2)\n",
            "Preferencias Hombres\n",
            "Hombre  0 \t (6, 5, 4, 7)\n",
            "Hombre  1 \t (4, 6, 7, 5)\n",
            "Hombre  2 \t (7, 4, 5, 6)\n",
            "Hombre  3 \t (5, 7, 6, 4)\n",
            "Conteo=  4\n",
            "Mujeres   Hombres\n",
            "4 \t \t \t 2\n",
            "5 \t \t \t 0\n",
            "6 \t \t \t 1\n",
            "7 \t \t \t 3\n"
          ],
          "name": "stdout"
        }
      ]
    },
    {
      "cell_type": "markdown",
      "metadata": {
        "id": "V9nClujsHKs1"
      },
      "source": [
        "Permutaciones para el mayor numero de pasos con n=4"
      ]
    },
    {
      "cell_type": "code",
      "metadata": {
        "colab": {
          "base_uri": "https://localhost:8080/"
        },
        "id": "jPvCnWPFGkH3",
        "outputId": "8b276fa4-58f6-4a5c-b47f-9e0a41ee3a67"
      },
      "source": [
        "hombres=[0,1,2,3]\n",
        "mujeres=[4,5,6,7]\n",
        "N=4\n",
        "suma=0\n",
        "for i in range(100):\n",
        "  prefer=(Perm(hombres,mujeres,N))\n",
        "  var=stableMarriageCONTEO(prefer,N)\n",
        "  if var==8:\n",
        "    Mostrar(prefer,N)\n",
        "    stableMarriage(prefer,N)\n",
        "    break\n"
      ],
      "execution_count": null,
      "outputs": [
        {
          "output_type": "stream",
          "text": [
            "Preferencias Mujeres\n",
            "Mujer  4 \t (3, 2, 1, 0)\n",
            "Mujer  5 \t (2, 1, 3, 0)\n",
            "Mujer  6 \t (3, 2, 1, 0)\n",
            "Mujer  7 \t (3, 2, 0, 1)\n",
            "Preferencias Hombres\n",
            "Hombre  0 \t (6, 4, 7, 5)\n",
            "Hombre  1 \t (4, 5, 6, 7)\n",
            "Hombre  2 \t (6, 4, 5, 7)\n",
            "Hombre  3 \t (4, 5, 6, 7)\n",
            "Conteo=  8\n",
            "Mujeres   Hombres\n",
            "4 \t \t \t 0\n",
            "5 \t \t \t 1\n",
            "6 \t \t \t 2\n",
            "7 \t \t \t 3\n"
          ],
          "name": "stdout"
        }
      ]
    },
    {
      "cell_type": "markdown",
      "metadata": {
        "id": "bJqlKmzUHNrN"
      },
      "source": [
        "Permutaciones para el menor numero de pasos con n=40"
      ]
    },
    {
      "cell_type": "code",
      "metadata": {
        "id": "Hdrs5FqjGp_F"
      },
      "source": [
        "hombres=[0,1,2,3,4,5,6,7,8,9,10,11,12,13,14,15,16,17,18,19,20,21,22,23,24,25,26,27,28,29,30,31,32,33,34,35,36,37,38,39]\n",
        "mujeres=[40,41,42,43,44,45,46,47,48,49,50,51,52,53,54,55,56,57,58,59,60,61,62,63,64,65,66,67,68,69,70,71,72,73,74,75,76,77,78,79]\n",
        "N=40\n",
        "suma=0\n",
        "for i in range(100):\n",
        "  prefer=(Perm(hombres,mujeres,N))\n",
        "  var=stableMarriageCONTEO(prefer,N)\n",
        "  if var==40:\n",
        "    Mostrar(prefer,N)\n",
        "    stableMarriage(prefer,N)\n",
        "    break\n"
      ],
      "execution_count": null,
      "outputs": []
    },
    {
      "cell_type": "markdown",
      "metadata": {
        "id": "XuH16e2MHPbN"
      },
      "source": [
        "Permutaciones para el mayor numero de pasos con n=40"
      ]
    },
    {
      "cell_type": "code",
      "metadata": {
        "id": "Q_vbKvufG6uO"
      },
      "source": [
        "hombres=[0,1,2,3,4,5,6,7,8,9,10,11,12,13,14,15,16,17,18,19,20,21,22,23,24,25,26,27,28,29,30,31,32,33,34,35,36,37,38,39]\n",
        "mujeres=[40,41,42,43,44,45,46,47,48,49,50,51,52,53,54,55,56,57,58,59,60,61,62,63,64,65,66,67,68,69,70,71,72,73,74,75,76,77,78,79]\n",
        "N=40\n",
        "suma=0\n",
        "for i in range(100):\n",
        "  prefer=(Perm(hombres,mujeres,N))\n",
        "  var=stableMarriageCONTEO(prefer,N)\n",
        "  if var==80:\n",
        "    Mostrar(prefer,N)\n",
        "    stableMarriage(prefer,N)\n",
        "    break\n"
      ],
      "execution_count": null,
      "outputs": []
    },
    {
      "cell_type": "markdown",
      "metadata": {
        "id": "4r5vNfIFFNVn"
      },
      "source": [
        "PUNTO 2"
      ]
    },
    {
      "cell_type": "markdown",
      "metadata": {
        "id": "rUUV5Oy5nDMd"
      },
      "source": [
        "Numero de pasos en 100 repeticiones con n=4, permutaciones aleatorias"
      ]
    },
    {
      "cell_type": "code",
      "metadata": {
        "colab": {
          "base_uri": "https://localhost:8080/",
          "height": 330
        },
        "id": "3_O9qY1kFKTn",
        "outputId": "2447c60c-7e3c-4974-f452-772ed4882c58"
      },
      "source": [
        "hombres=[0,1,2,3]\n",
        "mujeres=[4,5,6,7]\n",
        "N=4\n",
        "conteos=[]\n",
        "suma=0\n",
        "for i in range(100):\n",
        "  prefer=(Perm(hombres,mujeres,N))\n",
        "  var=stableMarriageCONTEO(prefer,N)\n",
        "  suma+=var\n",
        "  conteos.append(var)\n",
        "\n",
        "print (\"el minimo es: \", min(conteos))\n",
        "print (\"el maximo es: \", max(conteos))\n",
        "print (\"el promedio es: \", suma/100)\n",
        "\n",
        "numerac = Counter(conteos)\n",
        "df = pd.DataFrame.from_dict(numerac, orient=\"index\")\n",
        "df.plot(kind='bar')"
      ],
      "execution_count": null,
      "outputs": [
        {
          "output_type": "stream",
          "text": [
            "el minimo es:  4\n",
            "el maximo es:  8\n",
            "el promedio es:  5.06\n"
          ],
          "name": "stdout"
        },
        {
          "output_type": "execute_result",
          "data": {
            "text/plain": [
              "<matplotlib.axes._subplots.AxesSubplot at 0x7f4891d74198>"
            ]
          },
          "metadata": {
            "tags": []
          },
          "execution_count": 16
        },
        {
          "output_type": "display_data",
          "data": {
            "image/png": "[encoded data removed]",
            "text/plain": [
              "<Figure size 432x288 with 1 Axes>"
            ]
          },
          "metadata": {
            "tags": [],
            "needs_background": "light"
          }
        }
      ]
    },
    {
      "cell_type": "markdown",
      "metadata": {
        "id": "pzjHwMjYnPtc"
      },
      "source": [
        "Numero de pasos en 100 repeticiones con n=40, permutaciones aleatorias"
      ]
    },
    {
      "cell_type": "code",
      "metadata": {
        "id": "x4Wf-dEdnRP-"
      },
      "source": [
        "hombres=[0,1,2,3,4,5,6,7,8,9,10,11,12,13,14,15,16,17,18,19,20,21,22,23,24,25,26,27,28,29,30,31,32,33,34,35,36,37,38,39]\n",
        "mujeres=[40,41,42,43,44,45,46,47,48,49,50,51,52,53,54,55,56,57,58,59,60,61,62,63,64,65,66,67,68,69,70,71,72,73,74,75,76,77,78,79]\n",
        "N=40\n",
        "conteos=[]\n",
        "suma=0\n",
        "for i in range(100):\n",
        "  prefer=(Perm(hombres,mujeres,N))\n",
        "  var=stableMarriageCONTEO(prefer,N)\n",
        "  suma+=var\n",
        "  conteos.append(var)\n",
        "\n",
        "print (\"el minimo es: \", min(conteos))\n",
        "print (\"el maximo es: \", max(conteos))\n",
        "print (\"el promedio es: \", suma/100)\n",
        "\n",
        "numerac = Counter(conteos)\n",
        "df = pd.DataFrame.from_dict(numerac, orient='index')\n",
        "df.plot(kind='bar')"
      ],
      "execution_count": null,
      "outputs": []
    }
  ]
}