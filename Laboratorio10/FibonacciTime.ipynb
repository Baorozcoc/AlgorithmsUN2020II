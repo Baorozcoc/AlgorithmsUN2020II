{
  "nbformat": 4,
  "nbformat_minor": 0,
  "metadata": {
    "colab": {
      "name": "FibonacciTime.ipynb",
      "provenance": []
    },
    "kernelspec": {
      "name": "python3",
      "display_name": "Python 3"
    }
  },
  "cells": [
    {
      "cell_type": "markdown",
      "metadata": {
        "id": "WaoN5a2deTV_"
      },
      "source": [
        "Codigo para Fibonacci recursivo"
      ]
    },
    {
      "cell_type": "code",
      "metadata": {
        "id": "7yk3Vz9odIpg"
      },
      "source": [
        "def fibR(n):\r\n",
        "  if n==0 :\r\n",
        "    return 0\r\n",
        "  if n==1 :\r\n",
        "    return 1\r\n",
        "  return fibR(n-1)+fibR(n-2)"
      ],
      "execution_count": 9,
      "outputs": []
    },
    {
      "cell_type": "code",
      "metadata": {
        "id": "6pLA99HDebeT"
      },
      "source": [
        "import time\r\n",
        "def FibonacciRecursivoConTiempo(n):\r\n",
        "  t0 = time.clock()\r\n",
        "  k = fibR(n)\r\n",
        "  tf =time.clock()\r\n",
        "  return tf-t0"
      ],
      "execution_count": 19,
      "outputs": []
    },
    {
      "cell_type": "code",
      "metadata": {
        "colab": {
          "base_uri": "https://localhost:8080/"
        },
        "id": "AP9zrvUIesJw",
        "outputId": "bb5e5408-1a35-4191-a237-81401358c0e9"
      },
      "source": [
        "FibonacciRecursivoConTiempo(20)"
      ],
      "execution_count": 20,
      "outputs": [
        {
          "output_type": "execute_result",
          "data": {
            "text/plain": [
              "0.003673999999989519"
            ]
          },
          "metadata": {
            "tags": []
          },
          "execution_count": 20
        }
      ]
    },
    {
      "cell_type": "code",
      "metadata": {
        "id": "cGaek0oPiJhG"
      },
      "source": [
        "import matplotlib.pyplot as plt\r\n",
        "def TiempovsNR(n):\r\n",
        "  valores=[]\r\n",
        "  tiempos=[]\r\n",
        "  for i in range (n):\r\n",
        "    valores.append(i)\r\n",
        "    tiempos.append(FibonacciRecursivoConTiempo(i))\r\n",
        "  plt.plot(valores,tiempos,'g--d')\r\n",
        "  plt.show()"
      ],
      "execution_count": 22,
      "outputs": []
    },
    {
      "cell_type": "markdown",
      "metadata": {
        "id": "5zgCuuxhpd6i"
      },
      "source": [
        "GRAFICAR LOS TIEMPOS DE FIBONACCI RECURSIVO DE N=0 A 50"
      ]
    },
    {
      "cell_type": "code",
      "metadata": {
        "colab": {
          "base_uri": "https://localhost:8080/",
          "height": 265
        },
        "id": "Kr5AO-g4jXMm",
        "outputId": "0bceea22-708f-487a-be4e-b4a966567f1c"
      },
      "source": [
        "TiempovsNR(50)"
      ],
      "execution_count": 31,
      "outputs": [
        {
          "output_type": "display_data",
          "data": {
            "image/png": "[encoded data removed]",
            "text/plain": [
              "<Figure size 432x288 with 1 Axes>"
            ]
          },
          "metadata": {
            "tags": [],
            "needs_background": "light"
          }
        }
      ]
    },
    {
      "cell_type": "markdown",
      "metadata": {
        "id": "z44-4ybqe9of"
      },
      "source": [
        "Codigo para Fibonacci iterativo "
      ]
    },
    {
      "cell_type": "code",
      "metadata": {
        "id": "yQqFeD3QfEFn"
      },
      "source": [
        "def fib(n):\r\n",
        "    if n==0 :\r\n",
        "        return 0\r\n",
        "    a, b = 0, 1\r\n",
        "    for i in range(1, n):\r\n",
        "        a, b = b, a+b\r\n",
        "    return b"
      ],
      "execution_count": 3,
      "outputs": []
    },
    {
      "cell_type": "code",
      "metadata": {
        "id": "fUBCeyyQfKNI"
      },
      "source": [
        "import time\r\n",
        "def FibonacciIterativoConTiempo(n):\r\n",
        "  t0 = time.clock()\r\n",
        "  k = fib(n)\r\n",
        "  tf =time.clock()\r\n",
        "  return tf-t0"
      ],
      "execution_count": 9,
      "outputs": []
    },
    {
      "cell_type": "code",
      "metadata": {
        "colab": {
          "base_uri": "https://localhost:8080/"
        },
        "id": "_3T3dHOcfVMA",
        "outputId": "df50b6c8-6883-4e3f-dcc1-17e3f8ab4ba6"
      },
      "source": [
        "FibonacciIterativoConTiempo(500)"
      ],
      "execution_count": 6,
      "outputs": [
        {
          "output_type": "stream",
          "text": [
            "n= 500 fib( 500 )= 139423224561697880139724382870407283950070256587697307264108962948325571622863290691557658876222521294125 time 6.4000000000064e-05 seconds process time\n"
          ],
          "name": "stdout"
        }
      ]
    },
    {
      "cell_type": "code",
      "metadata": {
        "id": "MzzZ6JiDoxxD"
      },
      "source": [
        "import matplotlib.pyplot as plt\r\n",
        "def TiempovsNI(n):\r\n",
        "  valores=[]\r\n",
        "  tiempos=[]\r\n",
        "  for i in range (n):\r\n",
        "    valores.append(i)\r\n",
        "    tiempos.append(FibonacciIterativoConTiempo(i))\r\n",
        "  plt.plot(valores,tiempos,'g--d')\r\n",
        "  plt.show()"
      ],
      "execution_count": 10,
      "outputs": []
    },
    {
      "cell_type": "markdown",
      "metadata": {
        "id": "N11VlyavpUuq"
      },
      "source": [
        "GRAFICAR LOS TIEMPOS DE FIBONACCI ITERATIVO DE N=0 A 500"
      ]
    },
    {
      "cell_type": "code",
      "metadata": {
        "colab": {
          "base_uri": "https://localhost:8080/",
          "height": 276
        },
        "id": "7buzYkxYo7KC",
        "outputId": "6668a71e-86e6-464a-e6df-25d77f1741d7"
      },
      "source": [
        "TiempovsNI(500)"
      ],
      "execution_count": 25,
      "outputs": [
        {
          "output_type": "display_data",
          "data": {
            "image/png": "[encoded data removed]",
            "text/plain": [
              "<Figure size 432x288 with 1 Axes>"
            ]
          },
          "metadata": {
            "tags": [],
            "needs_background": "light"
          }
        }
      ]
    }
  ]
}