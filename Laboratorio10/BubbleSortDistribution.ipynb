{
  "nbformat": 4,
  "nbformat_minor": 0,
  "metadata": {
    "colab": {
      "name": "BubbleSortDistribution.ipynb",
      "provenance": []
    },
    "kernelspec": {
      "name": "python3",
      "display_name": "Python 3"
    }
  },
  "cells": [
    {
      "cell_type": "code",
      "metadata": {
        "id": "xh5LnXMLGp2R"
      },
      "source": [
        "from itertools import permutations\r\n",
        "from collections import Counter\r\n",
        "import pandas as pd"
      ],
      "execution_count": 38,
      "outputs": []
    },
    {
      "cell_type": "markdown",
      "metadata": {
        "id": "MRRQJ2KhjTt0"
      },
      "source": [
        "Función para intercambiar"
      ]
    },
    {
      "cell_type": "code",
      "metadata": {
        "id": "xZvUZzUdc8bQ"
      },
      "source": [
        "def Swap(lista,a,b):\n",
        "  n=lista[a]\n",
        "  m=lista[b]\n",
        "  lista[a]=m\n",
        "  lista[b]=n\n",
        "  return lista\n"
      ],
      "execution_count": 16,
      "outputs": []
    },
    {
      "cell_type": "code",
      "metadata": {
        "colab": {
          "base_uri": "https://localhost:8080/"
        },
        "id": "rNBCGEkmi-yj",
        "outputId": "24d95b78-a39b-47ae-f0cf-5511bfd339ff"
      },
      "source": [
        "Swap([0,1,2,3,4],3,2)"
      ],
      "execution_count": 11,
      "outputs": [
        {
          "output_type": "execute_result",
          "data": {
            "text/plain": [
              "[0, 1, 3, 2, 4]"
            ]
          },
          "metadata": {
            "tags": []
          },
          "execution_count": 11
        }
      ]
    },
    {
      "cell_type": "markdown",
      "metadata": {
        "id": "bj-Nu7uLSMYV"
      },
      "source": [
        ""
      ]
    },
    {
      "cell_type": "code",
      "metadata": {
        "id": "RFMLMzLlkM0B"
      },
      "source": [
        "def BubbleSort(lista):\n",
        "  \n",
        "  cambio=1\n",
        "  while cambio==1:\n",
        "    cambio=0\n",
        "    for i in range (len(lista)-1):\n",
        "      if lista[i]>lista[i+1]:\n",
        "        cambio=1\n",
        "        lista=Swap(lista,i,i+1)\n",
        "  return lista"
      ],
      "execution_count": null,
      "outputs": []
    },
    {
      "cell_type": "code",
      "metadata": {
        "id": "fDi5TEUbGJnq"
      },
      "source": [
        "def BubbleSortSWAPS(lista):\n",
        "  rotaciones=0\n",
        "  cambio=1\n",
        "  while cambio==1:\n",
        "    cambio=0\n",
        "    for i in range (len(lista)-1):\n",
        "      if lista[i]>lista[i+1]:\n",
        "        rotaciones+=1\n",
        "        cambio=1\n",
        "        lista=Swap(lista,i,i+1)\n",
        "  return rotaciones"
      ],
      "execution_count": 6,
      "outputs": []
    },
    {
      "cell_type": "code",
      "metadata": {
        "id": "l7Jnc0ltGXIK"
      },
      "source": [
        "def BubbleSortITERACIONES(lista):\n",
        "  iteraciones=0\n",
        "  cambio=1\n",
        "  while cambio==1:\n",
        "    cambio=0\n",
        "    iteraciones+=1\n",
        "    for i in range (len(lista)-1):\n",
        "      if lista[i]>lista[i+1]:\n",
        "        cambio=1\n",
        "        lista=Swap(list(lista),i,i+1)\n",
        "    \n",
        "  return iteraciones"
      ],
      "execution_count": 18,
      "outputs": []
    },
    {
      "cell_type": "code",
      "metadata": {
        "colab": {
          "base_uri": "https://localhost:8080/"
        },
        "id": "cIgy-bdGGuS5",
        "outputId": "166c2d8a-57db-4f1b-afdf-4f87975a3ba4"
      },
      "source": [
        "print (BubbleSort([5,1,3,2,4]))\n",
        "print (BubbleSortITERACIONES([5,1,3,2,4]))\n",
        "print (BubbleSortSWAPS([5,1,3,2,4]))"
      ],
      "execution_count": null,
      "outputs": [
        {
          "output_type": "stream",
          "text": [
            "[1, 2, 3, 4, 5]\n",
            "3\n",
            "5\n"
          ],
          "name": "stdout"
        }
      ]
    },
    {
      "cell_type": "markdown",
      "metadata": {
        "id": "CSkqyB-DSK3x"
      },
      "source": [
        "Función para mostrar pasos por permutación"
      ]
    },
    {
      "cell_type": "code",
      "metadata": {
        "id": "glUd3lg7SLKe"
      },
      "source": [
        "def MostrarPasos(n):\r\n",
        "  lista=[]\r\n",
        "  for i in range (n):\r\n",
        "    lista.append(i)\r\n",
        "  perm=list(permutations(lista))\r\n",
        "  for i in range (len(perm)):\r\n",
        "    h=list(perm[i])\r\n",
        "    m=BubbleSortSWAPS(h)\r\n",
        "    print (\"Permutación: \", perm[i], \" Pasos: \", m)\r\n"
      ],
      "execution_count": 26,
      "outputs": []
    },
    {
      "cell_type": "code",
      "metadata": {
        "colab": {
          "base_uri": "https://localhost:8080/"
        },
        "id": "yGDcwc6vVCR5",
        "outputId": "d0b0104d-44c4-4fe2-f8b7-e1293bb21b60"
      },
      "source": [
        "MostrarPasos(4)"
      ],
      "execution_count": 27,
      "outputs": [
        {
          "output_type": "stream",
          "text": [
            "Permutación:  (0, 1, 2, 3)  Pasos:  0\n",
            "Permutación:  (0, 1, 3, 2)  Pasos:  1\n",
            "Permutación:  (0, 2, 1, 3)  Pasos:  1\n",
            "Permutación:  (0, 2, 3, 1)  Pasos:  2\n",
            "Permutación:  (0, 3, 1, 2)  Pasos:  2\n",
            "Permutación:  (0, 3, 2, 1)  Pasos:  3\n",
            "Permutación:  (1, 0, 2, 3)  Pasos:  1\n",
            "Permutación:  (1, 0, 3, 2)  Pasos:  2\n",
            "Permutación:  (1, 2, 0, 3)  Pasos:  2\n",
            "Permutación:  (1, 2, 3, 0)  Pasos:  3\n",
            "Permutación:  (1, 3, 0, 2)  Pasos:  3\n",
            "Permutación:  (1, 3, 2, 0)  Pasos:  4\n",
            "Permutación:  (2, 0, 1, 3)  Pasos:  2\n",
            "Permutación:  (2, 0, 3, 1)  Pasos:  3\n",
            "Permutación:  (2, 1, 0, 3)  Pasos:  3\n",
            "Permutación:  (2, 1, 3, 0)  Pasos:  4\n",
            "Permutación:  (2, 3, 0, 1)  Pasos:  4\n",
            "Permutación:  (2, 3, 1, 0)  Pasos:  5\n",
            "Permutación:  (3, 0, 1, 2)  Pasos:  3\n",
            "Permutación:  (3, 0, 2, 1)  Pasos:  4\n",
            "Permutación:  (3, 1, 0, 2)  Pasos:  4\n",
            "Permutación:  (3, 1, 2, 0)  Pasos:  5\n",
            "Permutación:  (3, 2, 0, 1)  Pasos:  5\n",
            "Permutación:  (3, 2, 1, 0)  Pasos:  6\n"
          ],
          "name": "stdout"
        }
      ]
    },
    {
      "cell_type": "markdown",
      "metadata": {
        "id": "r4oLALPrUvnL"
      },
      "source": [
        "Función para Calcular las probabilidades de pasos y graficar."
      ]
    },
    {
      "cell_type": "code",
      "metadata": {
        "id": "tdqiyLpPY75A"
      },
      "source": [
        "def PROByCALC(n):\r\n",
        "  lista=[]\r\n",
        "  conteos=[]\r\n",
        "  for i in range (n):\r\n",
        "    lista.append(i)\r\n",
        "  perm=list(permutations(lista))\r\n",
        "  print (\"En \", len(perm), \" permutaciones de \", n, \" longitud de la lista: \")\r\n",
        "  for i in range (len(perm)):\r\n",
        "    h=list(perm[i])\r\n",
        "    m=BubbleSortSWAPS(h)\r\n",
        "    conteos.append(m)\r\n",
        "  for i in range (max(conteos)+1):\r\n",
        "    print (\"Probabilidad de pasos \", i, \" es: \", conteos.count(i)*100/len(perm),\"%\")\r\n",
        "  numerac = Counter(conteos)\r\n",
        "  df = pd.DataFrame.from_dict(numerac, orient=\"index\")\r\n",
        "  df.plot(kind='bar')\r\n"
      ],
      "execution_count": 42,
      "outputs": []
    },
    {
      "cell_type": "code",
      "metadata": {
        "colab": {
          "base_uri": "https://localhost:8080/",
          "height": 347
        },
        "id": "LtIV1GiLbpTu",
        "outputId": "c4070719-9501-422c-edc8-7a09593bf30c"
      },
      "source": [
        "PROByCALC(3)"
      ],
      "execution_count": 43,
      "outputs": [
        {
          "output_type": "stream",
          "text": [
            "En  6  permutaciones de  3  longitud de la lista: \n",
            "Probabilidad de pasos  0  es:  16.666666666666668 %\n",
            "Probabilidad de pasos  1  es:  33.333333333333336 %\n",
            "Probabilidad de pasos  2  es:  33.333333333333336 %\n",
            "Probabilidad de pasos  3  es:  16.666666666666668 %\n"
          ],
          "name": "stdout"
        },
        {
          "output_type": "display_data",
          "data": {
            "image/png": "[encoded data removed]",
            "text/plain": [
              "<Figure size 432x288 with 1 Axes>"
            ]
          },
          "metadata": {
            "tags": [],
            "needs_background": "light"
          }
        }
      ]
    },
    {
      "cell_type": "code",
      "metadata": {
        "colab": {
          "base_uri": "https://localhost:8080/",
          "height": 398
        },
        "id": "tN7uM_mbcb1N",
        "outputId": "4a6da988-4504-4f1b-c801-bee84b2db119"
      },
      "source": [
        "PROByCALC(4)"
      ],
      "execution_count": 44,
      "outputs": [
        {
          "output_type": "stream",
          "text": [
            "En  24  permutaciones de  4  longitud de la lista: \n",
            "Probabilidad de pasos  0  es:  4.166666666666667 %\n",
            "Probabilidad de pasos  1  es:  12.5 %\n",
            "Probabilidad de pasos  2  es:  20.833333333333332 %\n",
            "Probabilidad de pasos  3  es:  25.0 %\n",
            "Probabilidad de pasos  4  es:  20.833333333333332 %\n",
            "Probabilidad de pasos  5  es:  12.5 %\n",
            "Probabilidad de pasos  6  es:  4.166666666666667 %\n"
          ],
          "name": "stdout"
        },
        {
          "output_type": "display_data",
          "data": {
            "image/png": "[encoded data removed]",
            "text/plain": [
              "<Figure size 432x288 with 1 Axes>"
            ]
          },
          "metadata": {
            "tags": [],
            "needs_background": "light"
          }
        }
      ]
    },
    {
      "cell_type": "code",
      "metadata": {
        "colab": {
          "base_uri": "https://localhost:8080/",
          "height": 472
        },
        "id": "X9v4WnEkc_xa",
        "outputId": "84ce2bc3-599d-414f-bedb-31f19dac6a6e"
      },
      "source": [
        "PROByCALC(5)"
      ],
      "execution_count": 45,
      "outputs": [
        {
          "output_type": "stream",
          "text": [
            "En  120  permutaciones de  5  longitud de la lista: \n",
            "Probabilidad de pasos  0  es:  0.8333333333333334 %\n",
            "Probabilidad de pasos  1  es:  3.3333333333333335 %\n",
            "Probabilidad de pasos  2  es:  7.5 %\n",
            "Probabilidad de pasos  3  es:  12.5 %\n",
            "Probabilidad de pasos  4  es:  16.666666666666668 %\n",
            "Probabilidad de pasos  5  es:  18.333333333333332 %\n",
            "Probabilidad de pasos  6  es:  16.666666666666668 %\n",
            "Probabilidad de pasos  7  es:  12.5 %\n",
            "Probabilidad de pasos  8  es:  7.5 %\n",
            "Probabilidad de pasos  9  es:  3.3333333333333335 %\n",
            "Probabilidad de pasos  10  es:  0.8333333333333334 %\n"
          ],
          "name": "stdout"
        },
        {
          "output_type": "display_data",
          "data": {
            "image/png": "[encoded data removed]",
            "text/plain": [
              "<Figure size 432x288 with 1 Axes>"
            ]
          },
          "metadata": {
            "tags": [],
            "needs_background": "light"
          }
        }
      ]
    }
  ]
}